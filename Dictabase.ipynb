{
 "cells": [
  {
   "cell_type": "code",
   "execution_count": 1,
   "metadata": {},
   "outputs": [],
   "source": [
    "import dictabase as db\n",
    "\n",
    "class ExampleModel(db.Model):\n",
    "    name = db.Property()\n",
    "    last = db.Property()\n",
    "    id_num = db.Property()\n",
    "\n",
    "\n",
    "DATASET = [\n",
    "    ExampleModel(name=\"Nick\", last=\"Hunter-Walker\", id_num=43564),\n",
    "    ExampleModel(name=\"Nick\", last=\"Denny\", id_num=12435),\n",
    "    ExampleModel(name=\"Alan\", last=\"Vezina\", id_num=54321),\n",
    "    ExampleModel(name=\"Don\", last=\"Sheu\", id_num=34512),\n",
    "]\n"
   ]
  },
  {
   "cell_type": "code",
   "execution_count": 6,
   "metadata": {},
   "outputs": [
    {
     "name": "stdout",
     "output_type": "stream",
     "text": [
      "ExampleModel: id_num=43564, last=Hunter-Walker, name=Nick\n"
     ]
    }
   ],
   "source": [
    "with db.DictaBase(DATASET, indexes=('name', 'id_num')) as view:\n",
    "    query = view.query(ExampleModel.id_num > 12436)\n",
    "    query = query.filter(ExampleModel.name > 'Joe')\n",
    "    results = query.fetch()\n",
    "\n",
    "    for result in results:\n",
    "        print(result)"
   ]
  },
  {
   "cell_type": "code",
   "execution_count": null,
   "metadata": {},
   "outputs": [],
   "source": []
  }
 ],
 "metadata": {
  "kernelspec": {
   "display_name": "Python 3",
   "language": "python",
   "name": "python3"
  },
  "language_info": {
   "codemirror_mode": {
    "name": "ipython",
    "version": 3
   },
   "file_extension": ".py",
   "mimetype": "text/x-python",
   "name": "python",
   "nbconvert_exporter": "python",
   "pygments_lexer": "ipython3",
   "version": "3.6.4"
  }
 },
 "nbformat": 4,
 "nbformat_minor": 2
}
